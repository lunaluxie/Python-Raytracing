{
 "cells": [
  {
   "cell_type": "code",
   "execution_count": 1,
   "metadata": {},
   "outputs": [],
   "source": [
    "import numpy as np \n",
    "import numba as nb\n",
    "from matplotlib import pyplot as plt"
   ]
  },
  {
   "attachments": {},
   "cell_type": "markdown",
   "metadata": {},
   "source": [
    "## Canvas + Camera"
   ]
  },
  {
   "cell_type": "code",
   "execution_count": 2,
   "metadata": {},
   "outputs": [
    {
     "data": {
      "image/png": "[encoded data removed]",
      "text/plain": [
       "<Figure size 640x480 with 1 Axes>"
      ]
     },
     "metadata": {},
     "output_type": "display_data"
    }
   ],
   "source": [
    "camera = {\n",
    "    \n",
    "    \"position\": (0,0,0),\n",
    "    \"orientation\": [[1,0,0],[0,1,0],[0,0,1]],\n",
    "    \"d\": 1,\n",
    "    \"w\": 1,\n",
    "    \"h\": 1,\n",
    "\n",
    "    \"canvas\" : {\n",
    "        \"resolution\":(100,100),\n",
    "        \"pixels\": None,\n",
    "    }\n",
    "}\n",
    "\n",
    "def initialize_camera(camera):\n",
    "    resolution = camera[\"canvas\"][\"resolution\"]\n",
    "    camera[\"canvas\"][\"pixels\"] = np.zeros((resolution[0], resolution[1], 3))\n",
    "    return camera\n",
    "\n",
    "\n",
    "@nb.njit()\n",
    "def center2pixel(resolution, x, y):\n",
    "    return (int(resolution[0]//2) - y, int(resolution[1]//2) + x)\n",
    "\n",
    "@nb.njit()\n",
    "def write_pixel(pixels, resolution, x, y, color):\n",
    "    x,y = center2pixel(resolution, x,y)\n",
    "    pixels[x][y] = color\n",
    "\n",
    "    return color\n",
    "\n",
    "def show(canvas):\n",
    "    plt.imshow(canvas[\"pixels\"])\n",
    "    plt.show()\n",
    "\n",
    "@nb.njit()\n",
    "def canvas2world(x,y, resolution, w, h, d):\n",
    "    return (x*w/resolution[0], y*h/resolution[1], d)\n",
    "\n",
    "\n",
    "camera = initialize_camera(camera)\n",
    "\n",
    "write_pixel(camera['canvas']['pixels'], camera['canvas']['resolution'], -5, -5, np.array([1,0,0]))\n",
    "\n",
    "show(camera[\"canvas\"])\n"
   ]
  },
  {
   "attachments": {},
   "cell_type": "markdown",
   "metadata": {},
   "source": [
    "## Lights"
   ]
  },
  {
   "cell_type": "code",
   "execution_count": 3,
   "metadata": {},
   "outputs": [
    {
     "data": {
      "text/plain": [
       "array([ 0. ,  0. , -0.5])"
      ]
     },
     "execution_count": 3,
     "metadata": {},
     "output_type": "execute_result"
    }
   ],
   "source": [
    "lights = [\n",
    "    {\"type\":\"PointLight\", \"position\": np.array([0, 0, 0.5]), \"intensity\": 1},\n",
    "]\n",
    "\n",
    "@nb.njit()\n",
    "def get_L_point_light(P, light_position):\n",
    "    return light_position - P\n",
    "\n",
    "@nb.njit()\n",
    "def get_L(P, light_position, light_type):\n",
    "    if light_type == \"PointLight\":\n",
    "        return get_L_point_light(P, light_position) \n",
    "    else:\n",
    "        raise Exception(\"Light type not implemented\")\n",
    "\n",
    "\n",
    "light = lights[0]\n",
    "get_L(np.array([0,0,1]), light[\"position\"], light[\"type\"])"
   ]
  },
  {
   "attachments": {},
   "cell_type": "markdown",
   "metadata": {},
   "source": [
    "## Materials"
   ]
  },
  {
   "cell_type": "code",
   "execution_count": 4,
   "metadata": {},
   "outputs": [],
   "source": [
    "class PhongMaterial():\n",
    "    def __init__(self, color, ambient=0.4, specular=0.9, reflective=0.2):\n",
    "        self.color = np.array(color)\n",
    "        self.ambient = ambient\n",
    "        self.specular = specular\n",
    "        self.reflective = reflective"
   ]
  },
  {
   "attachments": {},
   "cell_type": "markdown",
   "metadata": {},
   "source": [
    "## Rays"
   ]
  },
  {
   "cell_type": "code",
   "execution_count": 5,
   "metadata": {},
   "outputs": [],
   "source": [
    "ray = {\"origin\": np.array([0, 0, 0]), \n",
    "       \"direction\": np.array([1, 0, 0]),\n",
    "       \"tmin\": 0,\n",
    "       \"tmax\":np.inf}\n",
    "\n",
    "@nb.njit()\n",
    "def p(ray_origin, ray_direction, t):\n",
    "    return ray_origin + ray_direction * t"
   ]
  },
  {
   "attachments": {},
   "cell_type": "markdown",
   "metadata": {},
   "source": [
    "## Primitives"
   ]
  },
  {
   "cell_type": "code",
   "execution_count": 6,
   "metadata": {},
   "outputs": [
    {
     "data": {
      "text/plain": [
       "array([0., 0., 0.])"
      ]
     },
     "execution_count": 6,
     "metadata": {},
     "output_type": "execute_result"
    }
   ],
   "source": [
    "@nb.njit()\n",
    "def intersect_sphere(sphere_position, sphere_radius, ray_origin, ray_direction):\n",
    "    ray_dot = ray_direction[0]**2+ray_direction[1]**2+ray_direction[2]**2\n",
    "    a = ray_dot\n",
    "\n",
    "\n",
    "    delta = ray_origin-sphere_position\n",
    "    delta_ray_dot = delta[0]*ray_direction[0]+delta[1]*ray_direction[1]+delta[2]*ray_direction[2]\n",
    "    b = 2*delta_ray_dot\n",
    "    \n",
    "    delta_dot = delta[0]**2+delta[1]**2+delta[2]**2\n",
    "    c = delta_dot - sphere_radius**2\n",
    "\n",
    "    discriminant = b**2 - 4*a*c\n",
    "\n",
    "    if discriminant < 0:\n",
    "        return [np.inf]\n",
    "    else:\n",
    "        t1 = (-b - np.sqrt(discriminant))/(2*a)\n",
    "        t2 = (-b + np.sqrt(discriminant))/(2*a)\n",
    "        return [t1,t2]\n",
    "\n",
    "\n",
    "@nb.njit()\n",
    "def normal_sphere(point, sphere_position, sphere_radius):\n",
    "    return (point-sphere_position)/sphere_radius\n",
    "\n",
    "\n",
    "intersect_sphere(np.array([0,0,0]), 1, np.array([0,0,-3]), np.array([0,0,1]))\n",
    "\n",
    "normal_sphere(np.array([0,0,0]), np.array([0,0,0]), 1)\n"
   ]
  },
  {
   "cell_type": "code",
   "execution_count": 7,
   "metadata": {},
   "outputs": [
    {
     "data": {
      "text/plain": [
       "[0.5, 0.0, 0.0, 1.5, 1.0, 0.0, 0.0]"
      ]
     },
     "execution_count": 7,
     "metadata": {},
     "output_type": "execute_result"
    }
   ],
   "source": [
    "@nb.njit()\n",
    "def closest_intersection(ray_origin, ray_direction, ray_tmin, ray_tmax, spheres):\n",
    "    closest_index = -1\n",
    "    closest_t = np.inf\n",
    "    closest_sphere_position = np.array([0,0,0], dtype=np.float64)\n",
    "    closest_sphere_radius = -1\n",
    "    closest_sphere_inside = 0\n",
    "    \n",
    "    for i,sphere in enumerate(spheres):\n",
    "        sphere_position = sphere[:3]\n",
    "        sphere_radius = sphere[3]\n",
    "        ts = intersect_sphere(sphere_position, sphere_radius, ray_origin, ray_direction)\n",
    "\n",
    "        for t in ts:\n",
    "            if (ray_tmin < t < ray_tmax) and t < closest_t:\n",
    "                closest_index = i\n",
    "                closest_t = t\n",
    "                closest_sphere_position = sphere_position\n",
    "                closest_sphere_radius = sphere_radius\n",
    "\n",
    "    if closest_sphere_radius == -1:\n",
    "        return [-9999., -9999., -9999., -9999., -9999., -9999.]\n",
    "    \n",
    "    else:\n",
    "        \n",
    "        d = ray_origin-closest_sphere_position\n",
    "        closest_sphere_inside = d[0]**2+d[1]**2+d[2]**2 <= closest_sphere_radius**2+0.001\n",
    "\n",
    "        return [closest_t, \n",
    "                closest_sphere_position[0],\n",
    "                closest_sphere_position[1],\n",
    "                closest_sphere_position[2],\n",
    "                closest_sphere_radius,\n",
    "                closest_sphere_inside,\n",
    "                closest_index]\n",
    "\n",
    "\n",
    "closest_intersection(np.array([0,0,0]), \n",
    "                     np.array([0,0,1]), \n",
    "                     0, \n",
    "                     np.inf, np.array([[0,0,1.5, 1.]]))\n"
   ]
  },
  {
   "cell_type": "code",
   "execution_count": 8,
   "metadata": {},
   "outputs": [
    {
     "data": {
      "text/plain": [
       "[0, 0, 0, 0, 0]"
      ]
     },
     "execution_count": 8,
     "metadata": {},
     "output_type": "execute_result"
    }
   ],
   "source": [
    "@nb.njit()\n",
    "def t(a,b,c,d,e):\n",
    "    if a>0:\n",
    "        return [0,0,0,0,0]\n",
    "    else:\n",
    "        return [a,b,c,d,e]\n",
    "\n",
    "\n",
    "t(1,2,3,4,5)\n",
    "    "
   ]
  },
  {
   "cell_type": "code",
   "execution_count": 9,
   "metadata": {},
   "outputs": [],
   "source": [
    "@nb.njit()\n",
    "def hemisphere2world(theta,phi):\n",
    "    x = np.sin(theta)*np.cos(phi)\n",
    "    y = np.cos(theta)\n",
    "    z = np.sin(theta)*np.sin(phi)\n",
    "    return np.array([x,y,z])\n",
    "\n",
    "\n",
    "hemisphere2world(1, 1)\n",
    "\n",
    "@nb.njit()\n",
    "def sample_uniform_hemisphere(r1,r2):\n",
    "    sin_theta = np.sqrt(1-r1**2)\n",
    "    phi = 2*np.pi*r2\n",
    "\n",
    "    x = sin_theta*np.cos(phi)\n",
    "    y = r1 # cos(theta)\n",
    "    z = sin_theta*np.sin(phi)\n",
    "\n",
    "    return np.array([x,y,z])\n",
    "        \n",
    "\n",
    "sample_uniform_hemisphere(1, 1)\n",
    "\n",
    "@nb.njit()\n",
    "def create_local_coordinate_system(N):\n",
    "    N_norm = np.sqrt(N[0]**2 + N[1]**2 + N[2]**2)\n",
    "    if (N[0]>N[1]):\n",
    "        Nt = np.array([N[2], 0, -N[0]]) / N_norm\n",
    "    else:\n",
    "        Nt = np.array([0, -N[2], N[1]]) / N_norm\n",
    "    Nb = np.cross(N,Nt)\n",
    "\n",
    "    return Nb, Nt, N\n",
    "\n",
    "\n",
    "create_local_coordinate_system(np.array([1, 1, 1]))\n",
    "\n",
    "\n",
    "\n",
    "\n",
    "@nb.njit()\n",
    "def local2world(P_local, N_world):\n",
    "    Nt, Nb, _ = create_local_coordinate_system(N_world)\n",
    "\n",
    "    A = np.array([[Nb[0], N_world[0], Nt[0]],\n",
    "                  [Nb[1], N_world[1], Nt[1]],\n",
    "                  [Nb[2], N_world[2], Nt[2]]])\n",
    "\n",
    "    C = np.zeros(3)\n",
    "    for i in nb.prange(3):\n",
    "        for j in nb.prange(3):\n",
    "            C[i] += A[i,j] * P_local[j]\n",
    "\n",
    "    return C\n",
    "\n",
    "\n",
    "def local2world_np(P_local, N_world):\n",
    "    Nt, Nb, _ = create_local_coordinate_system(N_world)\n",
    "\n",
    "    A = np.array([[Nb[0], N_world[0], Nt[0]],\n",
    "                  [Nb[1], N_world[1], Nt[1]],\n",
    "                  [Nb[2], N_world[2], Nt[2]]])\n",
    "\n",
    "    return np.matmul(A,P_local)\n",
    "\n",
    "res1 = local2world_np(np.array([3,1,2]), np.array([4,5,1]))\n",
    "res2 = local2world(np.array([3,1,2]), np.array([4,5,1]))\n",
    "\n",
    "\n",
    "for i in range(3):\n",
    "    assert res1[i] == res2[i]\n"
   ]
  },
  {
   "cell_type": "code",
   "execution_count": 10,
   "metadata": {},
   "outputs": [
    {
     "data": {
      "text/plain": [
       "array([134, 164, 175], dtype=uint8)"
      ]
     },
     "execution_count": 10,
     "metadata": {},
     "output_type": "execute_result"
    }
   ],
   "source": [
    "from PIL import Image\n",
    "\n",
    "skybox_image_cubemap = Image.open(\"skyboxes/miramar.jpeg\")\n",
    "skybox_image_cubemap = np.array(skybox_image_cubemap)\n",
    "\n",
    "\n",
    "def split_cubemap(skybox_image, height, total_width):\n",
    "    face_width = total_width // 4\n",
    "\n",
    "    images = [\n",
    "            skybox_image[face_width:2*face_width, 2*face_width:3*face_width], # POSITIVE X\n",
    "            skybox_image[face_width:2*face_width, 0:face_width], # NEGATIVE X\n",
    "            skybox_image[0:face_width, face_width:2*face_width], # POSITIVE Y\n",
    "            skybox_image[2*face_width:3*face_width, face_width:2*face_width], # NEGATIVE Y\n",
    "            skybox_image[face_width:2*face_width, face_width:2*face_width], # POSITIVE Z\n",
    "            skybox_image[face_width:2*face_width, 3*face_width:4*face_width], # NEGATIVE Z\n",
    "            ]\n",
    "    \n",
    "    return images\n",
    "\n",
    "skybox_images = split_cubemap(skybox_image_cubemap, *skybox_image_cubemap.shape[:2])\n",
    "\n",
    "skybox_images = np.array(skybox_images)\n",
    "\n",
    "@nb.njit()\n",
    "def sphere2pixel(P, image_height, image_width):\n",
    "    x,y,z = P\n",
    "    abs_x, abs_y, abs_z = np.abs(P)\n",
    "\n",
    "    x_positive = x>0\n",
    "    y_positive = y>0\n",
    "    z_positive = z>0\n",
    "\n",
    "    # POSITIVE X\n",
    "    if x_positive and abs_x >= abs_y and abs_x >= abs_z:\n",
    "        max_axis = abs_x\n",
    "        uc = -z\n",
    "        vc = y\n",
    "        index = 0\n",
    "\n",
    "    # NEGATIVE X\n",
    "    if not x_positive and abs_x >= abs_y and abs_x >= abs_z:\n",
    "        max_axis = abs_x\n",
    "        uc = z\n",
    "        vc = y\n",
    "        index = 1\n",
    "    \n",
    "    # POSITIVE Y\n",
    "    if y_positive and abs_y >= abs_x and abs_y >= abs_z:\n",
    "        max_axis = abs_y\n",
    "        uc = x\n",
    "        vc = -z\n",
    "        index = 2\n",
    "    \n",
    "    # NEGATIVE Y\n",
    "    if not y_positive and abs_y >= abs_x and abs_y >= abs_z:\n",
    "        max_axis = abs_y\n",
    "        uc = x\n",
    "        vc = z\n",
    "        index = 3\n",
    "\n",
    "    # POSITIVE Z\n",
    "    if z_positive and abs_z >= abs_x and abs_z >= abs_y:\n",
    "        max_axis = abs_z\n",
    "        uc = x\n",
    "        vc = y\n",
    "        index = 4\n",
    "    \n",
    "    # NEGATIVE Z\n",
    "    if not z_positive and abs_z >= abs_x and abs_z >= abs_y:\n",
    "        max_axis = abs_z\n",
    "        uc = -x\n",
    "        vc = y\n",
    "        index = 5\n",
    "\n",
    "    # convert from (-1,1) to (0,1)\n",
    "    if max_axis == 0:\n",
    "        max_axis = 0.001\n",
    "    u = 0.5 * (uc / (max_axis) + 1)\n",
    "    v = 0.5 * (vc / (max_axis) + 1)\n",
    "\n",
    "    pixel = [v,u]\n",
    "\n",
    "    pixel = (int(image_height-pixel[0]*image_height), \n",
    "             int(pixel[1]*image_width)-1)\n",
    "\n",
    "    return pixel[0], pixel[1], index\n",
    "\n",
    "\n",
    "sphere2pixel(np.array([1,0,0]), skybox_images[0].shape[0], skybox_images[0].shape[1])\n",
    "\n",
    "\n",
    "@nb.njit()\n",
    "def get_color(P, skybox_images):\n",
    "    height, width, _ = skybox_images[0].shape\n",
    "    x, y, index = sphere2pixel(P, height, width)\n",
    "    return skybox_images[index][x,y]\n",
    "\n",
    "\n",
    "\n",
    "\n",
    "get_color(np.array([1,0,0]), skybox_images)"
   ]
  },
  {
   "attachments": {},
   "cell_type": "markdown",
   "metadata": {},
   "source": [
    "## Scene"
   ]
  },
  {
   "cell_type": "code",
   "execution_count": 11,
   "metadata": {},
   "outputs": [
    {
     "data": {
      "text/plain": [
       "True"
      ]
     },
     "execution_count": 11,
     "metadata": {},
     "output_type": "execute_result"
    }
   ],
   "source": [
    "@nb.njit()\n",
    "def is_in_shadow(P, light_position, spheres):\n",
    "    L = get_L_point_light(P, light_position)\n",
    "    \n",
    "    res = closest_intersection(P, L, 0.001, np.inf, spheres)\n",
    "\n",
    "    if res[0] == -9999.:\n",
    "        return False\n",
    "    else:\n",
    "        return True\n",
    "\n",
    "\n",
    "spheres = np.array([[0,0,1.5, 1.]])\n",
    "\n",
    "is_in_shadow(np.array([0,0,0]), lights[0][\"position\"], spheres)"
   ]
  },
  {
   "cell_type": "code",
   "execution_count": 12,
   "metadata": {},
   "outputs": [
    {
     "data": {
      "text/plain": [
       "array([102.,   0.,   0.])"
      ]
     },
     "execution_count": 12,
     "metadata": {},
     "output_type": "execute_result"
    }
   ],
   "source": [
    "@nb.njit()\n",
    "def illuminate(light_position, light_intensity, \n",
    "              P, N, V, \n",
    "              material_color, \n",
    "              material_ambient, \n",
    "              material_specular, \n",
    "              material_reflective, \n",
    "              shadow):\n",
    "              \n",
    "    L = get_L_point_light(P, light_position)\n",
    "    N_dot_L = N[0]*L[0] + N[1]*L[1] + N[2]*L[2]\n",
    "\n",
    "    I = 0\n",
    "\n",
    "    if shadow:\n",
    "        return I\n",
    "    \n",
    "    if N_dot_L > 0:\n",
    "        L_norm = np.sqrt(L[0]**2 + L[1]**2 + L[2]**2)\n",
    "        N_norm = np.sqrt(N[0]**2 + N[1]**2 + N[2]**2)\n",
    "        I += light_intensity * N_dot_L/(L_norm*N_norm)\n",
    "\n",
    "    if material_specular > 0:\n",
    "        R = 2*N_dot_L - L\n",
    "        R_dot_V = R[0]*V[0] + R[1]*V[1] + R[2]*V[2]\n",
    "        if R_dot_V > 0:\n",
    "            R_norm = np.sqrt(R[0]**2 + R[1]**2 + R[2]**2)\n",
    "            V_norm = np.sqrt(V[0]**2 + V[1]**2 + V[2]**2)\n",
    "            I+= light_intensity * (R_dot_V/(R_norm*V_norm))**material_specular\n",
    "\n",
    "    return I\n",
    "\n",
    "\n",
    "illuminate(lights[0][\"position\"], \n",
    "           lights[0][\"intensity\"],\n",
    "           np.array([0,0,0]), \n",
    "           np.array([0,0,1]), \n",
    "           np.array([0,0,0]), np.array([255,255,255]), 0.4, 0.8, 500, True)\n",
    "\n",
    "@nb.njit()\n",
    "def compute_lighting(P, N, V, lights, spheres, material_color, material_ambient, material_specular, material_reflective):\n",
    "    I = material_ambient\n",
    "    for light in lights:\n",
    "        light_position = light[:3]\n",
    "        light_intensity = light[3]\n",
    "\n",
    "        shadow = is_in_shadow(P, light_position, spheres)\n",
    "        I += illuminate(light_position, light_intensity, P, N, V, material_color, material_ambient, material_specular, material_reflective, shadow)\n",
    "\n",
    "    return material_color*I\n",
    "\n",
    "\n",
    "compute_lighting(np.array([0,0,0]), np.array([0,0,1]), np.array([0,0,0]), np.array([[0,0,0.5,1]]), spheres, np.array([255,0,0]), 0.4, 0.4, 99)\n"
   ]
  },
  {
   "cell_type": "code",
   "execution_count": 13,
   "metadata": {},
   "outputs": [
    {
     "data": {
      "text/plain": [
       "array([0.5, 0.5, 0.5])"
      ]
     },
     "execution_count": 13,
     "metadata": {},
     "output_type": "execute_result"
    }
   ],
   "source": [
    "@nb.njit()\n",
    "def mix(a, b, c):\n",
    "    return a * (1 - c) + b * c\n",
    "\n",
    "\n",
    "a = np.array([1,1,1])\n",
    "b = np.array([0,0,0])\n",
    "c = np.array([0.5,0.5,0.5])\n",
    "mix(a, b, c)"
   ]
  },
  {
   "cell_type": "code",
   "execution_count": 14,
   "metadata": {},
   "outputs": [],
   "source": [
    "@nb.njit()\n",
    "def roll_ray_type(specular_chance, reflection_chance, refraction_chance):\n",
    "    select_roll = np.random.rand()\n",
    "    do_specular = 0\n",
    "    do_reflection = 0\n",
    "    do_refraction = 0\n",
    "    ray_prob = 0\n",
    "\n",
    "    if specular_chance > 0 and select_roll < specular_chance:\n",
    "        do_specular = 1\n",
    "        ray_prob = specular_chance\n",
    "    elif reflection_chance > 0 and select_roll < specular_chance + reflection_chance:\n",
    "        do_reflection = 1\n",
    "        ray_prob = reflection_chance\n",
    "    elif refraction_chance > 0 and select_roll < specular_chance + reflection_chance + refraction_chance:\n",
    "        do_refraction = 1\n",
    "        ray_prob = refraction_chance\n",
    "    else: # do diffusion. \n",
    "        ray_prob = 1 - specular_chance - reflection_chance - refraction_chance\n",
    "\n",
    "    ray_prob = max([ray_prob, 0.001]) # avoid zero probability\n",
    "    ray_prob = min([ray_prob, 1])\n",
    "\n",
    "    return do_specular, do_reflection, do_refraction, ray_prob"
   ]
  },
  {
   "cell_type": "code",
   "execution_count": 15,
   "metadata": {},
   "outputs": [],
   "source": [
    "@nb.njit\n",
    "def schlick(IOR, c):\n",
    "    # https://graphicscompendium.com/raytracing/11-fresnel-beer\n",
    "    F0 = (IOR-1)**2/(IOR+1)**2\n",
    "\n",
    "    return F0 + (1-F0)*c**5"
   ]
  },
  {
   "cell_type": "code",
   "execution_count": 16,
   "metadata": {},
   "outputs": [
    {
     "data": {
      "text/plain": [
       "array([10., 10., 10.])"
      ]
     },
     "execution_count": 16,
     "metadata": {},
     "output_type": "execute_result"
    }
   ],
   "source": [
    "\n",
    "@nb.njit()\n",
    "def trace_ray2(ray_origin, ray_direction, ray_tmin, ray_tmax, spheres, lights, depth=1, max_depth=100):\n",
    "\n",
    "    res = closest_intersection(ray_origin, ray_direction, ray_tmin, ray_tmax, spheres)\n",
    "\n",
    "    if depth > max_depth:\n",
    "        return np.array([0,0,0], dtype=np.float64)\n",
    "\n",
    "    if res[0] == -9999.:\n",
    "        return get_color(ray_direction, skybox_images=skybox_images).astype(np.float64)/255\n",
    "\n",
    "    else: \n",
    "        closest_t = res[0]\n",
    "        closest_sphere_position = np.array(res[1:4])\n",
    "        closest_sphere_radius = res[4]\n",
    "        closest_sphere_from_inside = res[5]\n",
    "        closest_index = res[6]\n",
    "\n",
    "        # throughput = np.array([1,1,1], dtype=np.float64)\n",
    "        # ret = np.array([0,0,0], dtype=np.float64)\n",
    "        local_color = np.array([0,0,0], dtype=np.float64)\n",
    "\n",
    "        material = {\n",
    "\n",
    "            \"specular_chance\": 0.2,\n",
    "            \"reflection_chance\": 0.2,\n",
    "            \"refraction_chance\": 0,\n",
    "\n",
    "            \"IOR\": 0.5,\n",
    "\n",
    "            \"albedo\": np.array([0,0,1]),\n",
    "            \"refraction_color\": np.array([1,0,0], dtype=np.float64),\n",
    "            \"specular_color\": np.array([0,0.4,0], dtype=np.float64),\n",
    "\n",
    "\n",
    "        }\n",
    "\n",
    "        if closest_index == len(spheres)-3:\n",
    "            material = {\n",
    "                \"specular_chance\": 0,\n",
    "                \"reflection_chance\": 0,\n",
    "                \"refraction_chance\": 0,\n",
    "                \"IOR\": 0.5,\n",
    "                \"albedo\": np.array([0,1,1]),\n",
    "                \"refraction_color\": np.array([0,0,0], dtype=np.float64),\n",
    "                \"specular_color\": np.array([0,0,0], dtype=np.float64),\n",
    "            }\n",
    "\n",
    "        if closest_index == 0:\n",
    "            material = {\n",
    "                \"specular_chance\": 0,\n",
    "                \"reflection_chance\": 0,\n",
    "                \"refraction_chance\": 1,\n",
    "                \"IOR\": 1.8,\n",
    "                \"albedo\": np.array([0,1,1]),\n",
    "                \"refraction_color\": np.array([0,0,0], dtype=np.float64),\n",
    "                \"specular_color\": np.array([0,0,0], dtype=np.float64),\n",
    "            }\n",
    "\n",
    "\n",
    "        emissive = np.array([0.,0.,0.], dtype=np.float64)\n",
    "        if closest_index == len(spheres)-1 or closest_index == len(spheres)-2:\n",
    "            emissive = np.array([5,5,5], dtype=np.float64)*2\n",
    "\n",
    "            material = {\n",
    "                \"specular_chance\": 0,\n",
    "                \"reflection_chance\": 0,\n",
    "                \"refraction_chance\": 0,\n",
    "                \"IOR\": 0.5,\n",
    "                \"albedo\": np.array([0,0,0]),\n",
    "                \"refraction_color\": np.array([0,0,0], dtype=np.float64),\n",
    "                \"specular_color\": np.array([0,0,0], dtype=np.float64),\n",
    "            }\n",
    "\n",
    "        \n",
    "        # calculate whether to do specular, reflection or refraction\n",
    "        do_specular, do_reflection, do_refraction, ray_prob = roll_ray_type(material['specular_chance'], material[\"reflection_chance\"], material['refraction_chance'])\n",
    "        \n",
    "        #### new ray position ####\n",
    "        P = p(ray_origin, ray_direction, closest_t)\n",
    "        N = normal_sphere(P, closest_sphere_position, closest_sphere_radius)\n",
    "        ray_dir_dot_N = ray_direction[0]*N[0] + ray_direction[1]*N[1] + ray_direction[2]*N[2]\n",
    "        if do_specular: \n",
    "            ray_dir = ray_direction - 2*ray_dir_dot_N*N\n",
    "            ray_prob = 1\n",
    "        elif do_reflection:\n",
    "            R = ray_direction - 2*ray_dir_dot_N*N\n",
    "            ray_dir = R\n",
    "            ray_prob = 1\n",
    "        elif do_refraction:\n",
    "            # reflection direction. \n",
    "            d_Re = ray_direction - 2*(ray_dir_dot_N)*N\n",
    "\n",
    "            # are we inside or outside the sphere?\n",
    "            out_to_in = ray_dir_dot_N < 0\n",
    "\n",
    "            IOR = material['IOR'] if out_to_in else 1/material['IOR']\n",
    "            nl = N if out_to_in else -N\n",
    "\n",
    "            cos_theta = ray_direction[0]*nl[0]+ray_direction[1]*nl[1]+ray_direction[2]*nl[2]\n",
    "            cos2_phi = 1.0 - IOR**2 * (1-cos_theta**2)\n",
    "\n",
    "            if cos2_phi < 0:\n",
    "                ray_dir = d_Re\n",
    "                ray_prob = 1\n",
    "            else:\n",
    "                d_Tr = (IOR*ray_direction - (IOR*cos_theta + np.sqrt(cos2_phi))*nl)\n",
    "                c = 1.0 - (-cos_theta if out_to_in else d_Tr[0]*N[0]+d_Tr[1]*N[1]+d_Tr[2]*N[2])\n",
    "                Re = schlick(IOR, c)\n",
    "\n",
    "                p_Re = 0.25 + 0.5 * Re\n",
    "\n",
    "                if np.random.rand() < p_Re:\n",
    "                    ray_dir = d_Re\n",
    "                    ray_prob = Re/p_Re\n",
    "                else:\n",
    "                    Tr = 1.0 - Re\n",
    "                    ray_dir = d_Tr\n",
    "                    ray_prob = Tr/(1-p_Re)\n",
    "    \n",
    "        else: # do diffusion\n",
    "            N_world = np.array([0,1,0])\n",
    "            r1 = np.random.rand()\n",
    "            r2 = np.random.rand() # cos(theta)\n",
    "            local_coordinate = sample_uniform_hemisphere(r1,r2)\n",
    "            ray_dir = local2world(local_coordinate, N_world)\n",
    "\n",
    "            ray_prob = 1/(2*np.pi)\n",
    "\n",
    "\n",
    "\n",
    "        ### COLOR ###\n",
    "        # add emissive ligthing\n",
    "        local_color = emissive\n",
    "\n",
    "        throughput = np.array([1,1,1], dtype=np.float64)\n",
    "\n",
    "        if not do_refraction:\n",
    "            # direct illumination\n",
    "            throughput = mix(material[\"albedo\"], material[\"specular_color\"], do_specular)\n",
    "        else: \n",
    "            throughput = throughput * np.exp(-material[\"refraction_color\"]*closest_t)\n",
    "\n",
    "        return local_color + throughput * trace_ray2(P, ray_dir, ray_tmin, np.inf, spheres, lights, depth+1, max_depth)\n",
    "\n",
    "\n",
    "trace_ray2(np.array([0,0,0.3], dtype=float), np.array([0,0,1], dtype=float), 0.001, np.inf, spheres, np.array([[0,0,0.5,1]], dtype=float), 1, 5)\n",
    "    "
   ]
  },
  {
   "cell_type": "code",
   "execution_count": 44,
   "metadata": {},
   "outputs": [],
   "source": [
    "@nb.njit\n",
    "def reflectance0(n1, n2):\n",
    "    sqrt_R0 = (n1 - n2) / (n1 + n2)\n",
    "    return sqrt_R0 * sqrt_R0\n",
    "\n",
    "@nb.njit\n",
    "def schlick_reflectance(n1, n2, c):\n",
    "    R0 = reflectance0(n1, n2)\n",
    "    return R0 + (1.0 - R0) * c * c * c * c * c\n",
    "\n",
    "@nb.njit\n",
    "def ideal_specular_reflect(d, n):\n",
    "    return d - 2.0 * np.dot(n,d) * n\n",
    "\n",
    "@nb.njit\n",
    "def ideal_specular_transmit(d, n, n_out, n_in):\n",
    "    n_out, n_in = np.float64(n_out), np.float64(n_in)\n",
    "    d_Re = ideal_specular_reflect(d, n)\n",
    "\n",
    "    out_to_in = np.dot(n,d) < 0\n",
    "    nl = n if out_to_in else -n\n",
    "    nn = n_out / n_in if out_to_in else n_in / n_out\n",
    "    cos_theta = d.dot(nl)\n",
    "    cos2_phi = 1.0 - nn * nn * (1.0 - cos_theta * cos_theta)\n",
    "\n",
    "    # Total Internal Reflection\n",
    "    if cos2_phi < 0:\n",
    "        return d_Re, 1.0\n",
    "\n",
    "    d_Tr = nn * d - nl * (nn * cos_theta + np.sqrt(cos2_phi))\n",
    "    d_Tr = d_Tr / np.linalg.norm(d_Tr)\n",
    "    c = 1.0 - (-cos_theta if out_to_in else np.dot(d_Tr,n))\n",
    "\n",
    "    Re = schlick_reflectance(n_out, n_in, c)\n",
    "    p_Re = 0.25 + 0.5 * Re\n",
    "\n",
    "    if np.random.rand() < p_Re:\n",
    "        return d_Re, (Re / p_Re)\n",
    "    else:\n",
    "        Tr = 1.0 - Re\n",
    "        p_Tr = 1.0 - p_Re\n",
    "        return d_Tr, (Tr / p_Tr)"
   ]
  },
  {
   "cell_type": "code",
   "execution_count": 45,
   "metadata": {},
   "outputs": [],
   "source": [
    "@nb.njit\n",
    "def uniform_sample_on_hemisphere(u1, u2):\n",
    "    sin_theta = np.sqrt(np.maximum(0.0, 1.0 - u1 * u1))\n",
    "    phi = 2.0 * np.pi * u2\n",
    "    return np.array([np.cos(phi) * sin_theta, np.sin(phi) * sin_theta, u1], dtype=np.float64)\n",
    "\t\n",
    "@nb.njit\n",
    "def cosine_weighted_sample_on_hemisphere(u1, u2):\n",
    "    cos_theta = np.sqrt(1.0 - u1)\n",
    "    sin_theta = np.sqrt(u1)\n",
    "    phi = 2.0 * np.pi * u2\n",
    "    return np.array([np.cos(phi) * sin_theta, np.sin(phi) * sin_theta, cos_theta], dtype=np.float64)"
   ]
  },
  {
   "cell_type": "code",
   "execution_count": 46,
   "metadata": {},
   "outputs": [
    {
     "data": {
      "text/plain": [
       "array([0.        , 0.        , 0.55294118])"
      ]
     },
     "execution_count": 46,
     "metadata": {},
     "output_type": "execute_result"
    }
   ],
   "source": [
    "@nb.njit\n",
    "def trace_ray(ray_origin, ray_direction, ray_tmin, ray_tmax, spheres, lights, depth=1, max_depth=8):\n",
    "    L = np.zeros(3)\n",
    "    F = np.ones(3)\n",
    "\n",
    "    while depth<max_depth: # essentially bypass russian roulette\n",
    "        res = closest_intersection(ray_origin, ray_direction, ray_tmin, ray_tmax, spheres)\n",
    "\n",
    "        if res[0] == -9999.:\n",
    "            L += F * get_color(ray_direction, skybox_images=skybox_images).astype(np.float64)/255\n",
    "            return L\n",
    "            # return get_color(ray_direction, skybox_images=skybox_images).astype(np.float64)/255\n",
    "\n",
    "        else:\n",
    "            closest_t = res[0]\n",
    "            closest_sphere_position = np.array(res[1:4])\n",
    "            closest_sphere_radius = res[4]\n",
    "            closest_sphere_from_inside = res[5]\n",
    "            closest_index = res[6]\n",
    "\n",
    "            material = {\n",
    "\n",
    "                \"specular_chance\": 0.2,\n",
    "                \"reflection_chance\": 0.2,\n",
    "                \"refraction_chance\": 0,\n",
    "\n",
    "                \"IOR\": 0.5,\n",
    "                \"nin\": 1.5,\n",
    "                \"nout\": 1,\n",
    "\n",
    "                \"albedo\": np.array([0,0,1]),\n",
    "                \"refraction_color\": np.array([1,0,0], dtype=np.float64),\n",
    "                \"specular_color\": np.array([0,0.4,0], dtype=np.float64),\n",
    "\n",
    "\n",
    "            }\n",
    "\n",
    "            if closest_index == len(spheres)-3:\n",
    "                material = {\n",
    "                    \"specular_chance\": 0,\n",
    "                    \"reflection_chance\": 0,\n",
    "                    \"refraction_chance\": 0,\n",
    "                    \"IOR\": 0.5,\n",
    "                    \"nin\": 1.0,\n",
    "                    \"nout\": 1.8,\n",
    "                    \"albedo\": np.array([0,1,1]),\n",
    "                    \"refraction_color\": np.array([0,0,0], dtype=np.float64),\n",
    "                    \"specular_color\": np.array([0,0,0], dtype=np.float64),\n",
    "                }\n",
    "\n",
    "            if closest_index == 0:\n",
    "                material = {\n",
    "                    \"specular_chance\": 0,\n",
    "                    \"reflection_chance\": 0,\n",
    "                    \"refraction_chance\": 1,\n",
    "                    \"IOR\": 1.8,\n",
    "                    \"nin\": 1.0,\n",
    "                    \"nout\": 1.8,\n",
    "                    \"albedo\": np.array([0,1,1]),\n",
    "                    \"refraction_color\": np.array([0,0,0], dtype=np.float64),\n",
    "                    \"specular_color\": np.array([0,0,0], dtype=np.float64),\n",
    "                }\n",
    "\n",
    "\n",
    "            emissive = np.array([0.,0.,0.], dtype=np.float64)\n",
    "            if closest_index == len(spheres)-1 or closest_index == len(spheres)-2:\n",
    "                emissive = np.array([5,5,5], dtype=np.float64)*2\n",
    "\n",
    "                material = {\n",
    "                    \"specular_chance\": 0,\n",
    "                    \"reflection_chance\": 0,\n",
    "                    \"refraction_chance\": 0,\n",
    "                    \"IOR\": 0.5,\n",
    "                    \"nin\": 1.0,\n",
    "                    \"nout\": 1.8,\n",
    "                    \"albedo\": np.array([0,0,0]),\n",
    "                    \"refraction_color\": np.array([0,0,0], dtype=np.float64),\n",
    "                    \"specular_color\": np.array([0,0,0], dtype=np.float64),\n",
    "                }\n",
    "\n",
    "\n",
    "            P = ray_origin + closest_t * ray_direction\n",
    "            N = P - closest_sphere_position\n",
    "            N = N / np.linalg.norm(N)\n",
    "\n",
    "            L += F*emissive\n",
    "            F *= material[\"albedo\"]\n",
    "\n",
    "            # russian roulette\n",
    "            # if depth > max_depth:\n",
    "            #     continue_probability = max(F)\n",
    "\n",
    "            #     if np.random.rand() > continue_probability:\n",
    "            #         return L\n",
    "            #     F /= continue_probability\n",
    "\n",
    "            # next path segment\n",
    "            do_specular, do_reflection, do_refraction, ray_prob = roll_ray_type(material['specular_chance'], material[\"reflection_chance\"], material['refraction_chance'])\n",
    "\n",
    "            if do_reflection:\n",
    "                d = ideal_specular_reflect(ray_direction, N)\n",
    "                ray_origin = P\n",
    "                ray_direction = d\n",
    "                depth += 1\n",
    "                continue\n",
    "            elif do_refraction:\n",
    "                d, pr = ideal_specular_transmit(ray_direction, N, material['nout'], material['nin'])\n",
    "                F *= pr\n",
    "                ray_origin = P\n",
    "                ray_direction = d\n",
    "                depth += 1\n",
    "                continue\n",
    "            else:\n",
    "                w = N if np.dot(N,ray_direction) < 0 else -N\n",
    "                u = np.cross(np.array([0.0, 1.0, 0.0], np.float64) if abs(w[0]) > 0.1 else np.array([1.0, 0.0, 0.0], np.float64), w)\n",
    "                u = u/np.linalg.norm(u)\n",
    "                v = np.cross(w, u)\n",
    "\n",
    "                sample_d = cosine_weighted_sample_on_hemisphere(np.random.rand(), np.random.rand())\n",
    "                d = sample_d[0] * u + sample_d[1] * v + sample_d[2] * w\n",
    "                d /= np.linalg.norm(d)\n",
    "                ray_origin = P\n",
    "                ray_direction = d\n",
    "                depth += 1\n",
    "                continue\n",
    "\n",
    "        depth += 1\n",
    "\n",
    "    return L\n",
    "\n",
    "            \n",
    "\n",
    "spheres = np.array([[0.,0.,2.,1], [-1.5,0.,4.,1.], [1.5,0.,4.,1.], [0,-5001.,0.,5000.], [-5.,0,1,0.5], [-2.,0,1.,0.5]])\n",
    "lights = np.array([[0.,-0.5,0.,0.7]])\n",
    "\n",
    "x,y = (-31, 11)\n",
    "noise = 0.5\n",
    "x_ = x + (np.random.rand()-0.5)*noise\n",
    "y_ = y + (np.random.rand()-0.5)*noise\n",
    "\n",
    "\n",
    "O = np.array([0.,0.,-2.], dtype=float)\n",
    "D = np.array(canvas2world(x,y, [100,100], 1,1,1)) #np.array([-0.31, 0.11, 1], dtype=float)\n",
    "trace_ray(O, D, 0.001, np.inf, spheres, lights)\n",
    "    "
   ]
  },
  {
   "cell_type": "code",
   "execution_count": 47,
   "metadata": {},
   "outputs": [
    {
     "data": {
      "text/plain": [
       "3"
      ]
     },
     "execution_count": 47,
     "metadata": {},
     "output_type": "execute_result"
    }
   ],
   "source": [
    "max(np.array([1,2,3]))"
   ]
  },
  {
   "cell_type": "code",
   "execution_count": 48,
   "metadata": {},
   "outputs": [
    {
     "data": {
      "image/png": "[encoded data removed]",
      "text/plain": [
       "<Figure size 640x480 with 1 Axes>"
      ]
     },
     "metadata": {},
     "output_type": "display_data"
    }
   ],
   "source": [
    "@nb.njit(parallel=True)\n",
    "def render():\n",
    "\n",
    "    camera = {\n",
    "        \"position\": np.array([0.,0.,-2.],dtype=np.float64),\n",
    "        # \"orientation\": [[1,0,0],[0,1,0],[0,0,1]],\n",
    "        \"d\": 1,\n",
    "        \"w\": 1,\n",
    "        \"h\": 1,\n",
    "\n",
    "        \"canvas\" : {\n",
    "            \"resolution\":np.array((100,100),dtype=np.float64),\n",
    "            \"pixels\": np.zeros((100,100,3), dtype=np.float64),\n",
    "        }\n",
    "    }\n",
    "\n",
    "\n",
    "    spheres = np.array([[0.,0.,2.,1], \n",
    "                        [-1.5,0.,4.,1.], \n",
    "                        [1.5,0.,4.,1.], \n",
    "                        [0,-5001.,0.,5000.], \n",
    "                        [-5.,0,1,0.5], \n",
    "                        [-2., 0, 1.,0.5]])\n",
    "    lights = np.array([[0.,-0.5,0.,0.7]])\n",
    "\n",
    "    # spheres = np.array([\n",
    "    #     [1e5+1,40.8,81.6, 1e5],\n",
    "    #     [-1e5+99,40.8,81.6, 1e5],\n",
    "    #     [50,40.8,1e5, 1e5],\n",
    "    #     [50,40.8,-1e5,1e5],\n",
    "    #     [50,1e5,81.6, 1e5],\n",
    "    #     [50,-1e5+81.6,81.6, 1e5],\n",
    "    #     [27,16.5,47, 16.5],\n",
    "    #     [73,16.5,78, 16.5],\n",
    "    #     [50,681.6-.27,81.6, 600]\n",
    "    # ])\n",
    "\n",
    "\n",
    "    xmin = -int(camera['canvas']['resolution'][0]//2)+1\n",
    "    xmax = int(camera['canvas']['resolution'][0]//2)\n",
    "    ymin = -int(camera['canvas']['resolution'][1]//2)+1\n",
    "    ymax = int(camera['canvas']['resolution'][1]//2)\n",
    "    for x in nb.prange(xmin, xmax):\n",
    "        for y in nb.prange(ymin, ymax):\n",
    "            # print(x, y)\n",
    "            color = np.array([0,0,0], dtype=np.float64)\n",
    "            n_samples = 1000\n",
    "\n",
    "            for _ in nb.prange(n_samples):\n",
    "                noise = 1\n",
    "                x_ = x + (np.random.rand()-0.5)*noise\n",
    "                y_ = y + (np.random.rand()-0.5)*noise\n",
    "\n",
    "                # (x,y, resolution, w, h, d)\n",
    "                D = canvas2world(x_,y_,camera['canvas']['resolution'], camera['w'], camera['h'], camera['d'])\n",
    "                ray_origin = camera['position']\n",
    "                ray_direction = np.array(D)\n",
    "\n",
    "                # ray_origin, ray_direction, ray_tmin, ray_tmax, spheres, lights\n",
    "                color += trace_ray(ray_origin, ray_direction, 0.001, np.inf, spheres, lights)\n",
    "\n",
    "            color /= n_samples\n",
    "            color_r = min(color[0], 1)\n",
    "            color_g = min(color[1], 1)\n",
    "            color_b = min(color[2], 1)\n",
    "\n",
    "            color = np.array([color_r, color_g, color_b], dtype=np.float64)\n",
    "\n",
    "            write_pixel(camera['canvas']['pixels'], camera['canvas']['resolution'], int(x), int(y), color)\n",
    "\n",
    "    return camera['canvas']['pixels']\n",
    "\n",
    "\n",
    "pixels = render()\n",
    "\n",
    "plt.imshow(pixels.astype(float))\n",
    "plt.gca().axis('off')\n",
    "plt.show()"
   ]
  },
  {
   "cell_type": "code",
   "execution_count": 70,
   "metadata": {},
   "outputs": [
    {
     "data": {
      "text/plain": [
       "array([2., 4., 6.])"
      ]
     },
     "execution_count": 70,
     "metadata": {},
     "output_type": "execute_result"
    }
   ],
   "source": [
    "@nb.experimental.jitclass([\n",
    "    (\"a\", nb.types.Array(nb.float64, 1, layout='C')),\n",
    "])\n",
    "class Test:\n",
    "    def __init__(self, a):\n",
    "        self.a = a\n",
    "\n",
    "    def get_a(self):\n",
    "        return self.a\n",
    "\n",
    "@nb.experimental.jitclass([\n",
    "    (\"b\", nb.types.Array(nb.float64, 1, layout='C')),\n",
    "    (\"c\", nb.float64),\n",
    "])\n",
    "class Test2:\n",
    "    def __init__(self, b,c):\n",
    "        self.b = b\n",
    "        self.c = c\n",
    "\n",
    "    def get_a(self):\n",
    "        return self.b\n",
    "\n",
    "@nb.njit\n",
    "def mul(l):\n",
    "    s = np.array([0,0,0], dtype=np.float64)\n",
    "    for i in literal_unroll(l):\n",
    "        s += i.get_a()\n",
    "    return s\n",
    "\n",
    "b = Test(np.array([1,2,3], dtype=np.float64))\n",
    "c = Test2(np.array([1,2,3], dtype=np.float64), 4)\n",
    "\n",
    "mul((b,c))"
   ]
  },
  {
   "cell_type": "code",
   "execution_count": 66,
   "metadata": {},
   "outputs": [
    {
     "name": "stdout",
     "output_type": "stream",
     "text": [
      "1\n",
      "2j\n",
      "3.0\n",
      "a\n"
     ]
    }
   ],
   "source": [
    "from numba import literal_unroll\n",
    "\n",
    "@nb.njit\n",
    "def foo(heterogeneous_tuple):\n",
    "    for i in literal_unroll(heterogeneous_tuple):\n",
    "        print(i)\n",
    "\n",
    "\n",
    "heterogeneous_tuple = (1, 2j, 3.0, \"a\")\n",
    "foo(heterogeneous_tuple)"
   ]
  },
  {
   "cell_type": "code",
   "execution_count": null,
   "metadata": {},
   "outputs": [
    {
     "data": {
      "text/plain": [
       "(-0.5, 99.5, 99.5, -0.5)"
      ]
     },
     "execution_count": 23,
     "metadata": {},
     "output_type": "execute_result"
    },
    {
     "data": {
      "image/png": "[encoded data removed]",
      "text/plain": [
       "<Figure size 640x480 with 1 Axes>"
      ]
     },
     "metadata": {},
     "output_type": "display_data"
    }
   ],
   "source": [
    "pixels_high_res = pixels.copy()\n",
    "plt.imshow(pixels.astype(float))\n",
    "plt.gca().axis('off')"
   ]
  },
  {
   "cell_type": "code",
   "execution_count": 94,
   "metadata": {},
   "outputs": [
    {
     "data": {
      "text/plain": [
       "<numba.experimental.jitclass.boxing.Camera at 0x1527c7820>"
      ]
     },
     "execution_count": 94,
     "metadata": {},
     "output_type": "execute_result"
    }
   ],
   "source": [
    "@nb.experimental.jitclass([\n",
    "    (\"pixels\", nb.float64[:, :, :]),\n",
    "])\n",
    "class Camera():\n",
    "    def __init__(self):\n",
    "\n",
    "        self.pixels = np.zeros((100, 100, 3), dtype=np.float64)\n",
    "\n",
    "Camera()"
   ]
  },
  {
   "cell_type": "code",
   "execution_count": 121,
   "metadata": {},
   "outputs": [],
   "source": [
    "@nb.experimental.jitclass([\n",
    "    (\"position\", nb.float64[:]),\n",
    "    (\"orientation\", nb.float64[:,:]),\n",
    "    (\"resolution\", nb.int64[:]),\n",
    "    (\"pixels\", nb.float64[:, :, :]),\n",
    "    (\"d\", nb.float64),\n",
    "    (\"w\", nb.float64),\n",
    "    (\"h\", nb.float64),\n",
    "])\n",
    "class Camera():\n",
    "    def __init__(self,\n",
    "                position=np.array([0,0,0],np.float64),\n",
    "                orientation=np.array([[1,0,0],[0,1,0],[0,0,1]], np.float64),\n",
    "                resolution=np.array([100,100], dtype=np.int64),\n",
    "                d=1, w=1, h=1):\n",
    "        self.position = position\n",
    "        self.orientation = orientation\n",
    "\n",
    "\n",
    "        # distance from camera to canvas\n",
    "        self.d = d\n",
    "\n",
    "        # width and height of camera frame otherwise known as the FoV\n",
    "        self.w = w\n",
    "        self.h = h\n",
    "\n",
    "        self.resolution = resolution\n",
    "\n",
    "        self.pixels = np.zeros((resolution[1], resolution[0], 3), dtype=np.float64)\n",
    "\n",
    "    def canvas2world(self, x, y):\n",
    "        return (x*self.w/self.resolution[0], y*self.h/self.resolution[1], self.d)\n",
    "\n",
    "    def write_pixel(self, x, y, color):\n",
    "        self.pixels[x,y] = color"
   ]
  },
  {
   "cell_type": "code",
   "execution_count": 122,
   "metadata": {},
   "outputs": [
    {
     "data": {
      "text/plain": [
       "<numba.experimental.jitclass.boxing.Camera at 0x1664c1d80>"
      ]
     },
     "execution_count": 122,
     "metadata": {},
     "output_type": "execute_result"
    }
   ],
   "source": [
    "Camera()"
   ]
  },
  {
   "cell_type": "code",
   "execution_count": null,
   "metadata": {},
   "outputs": [],
   "source": []
  }
 ],
 "metadata": {
  "kernelspec": {
   "display_name": "Python 3 (ipykernel)",
   "language": "python",
   "name": "python3"
  },
  "orig_nbformat": 4
 },
 "nbformat": 4,
 "nbformat_minor": 2
}
